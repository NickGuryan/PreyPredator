{
 "cells": [
  {
   "cell_type": "code",
   "execution_count": 10,
   "metadata": {
    "collapsed": true
   },
   "outputs": [],
   "source": [
    "import pymorphy2\n",
    "import pandas as pd\n",
    "morph = pymorphy2.MorphAnalyzer() "
   ]
  },
  {
   "cell_type": "code",
   "execution_count": 14,
   "metadata": {
    "collapsed": true
   },
   "outputs": [],
   "source": [
    "#Загружаем таблицу граммем и их частей речи\n",
    "table = pd.read_html('https://pymorphy2.readthedocs.io/en/latest/user/grammemes.html#grammeme-docs')[0]"
   ]
  },
  {
   "cell_type": "code",
   "execution_count": 23,
   "metadata": {},
   "outputs": [],
   "source": [
    "table['cT'] = table['Значение'].apply(lambda x: x.split('(')[0].strip())"
   ]
  },
  {
   "cell_type": "code",
   "execution_count": 37,
   "metadata": {},
   "outputs": [],
   "source": [
    "m = {}\n",
    "for g in table['Граммема'].tolist():\n",
    "    m[g] = table[table['Граммема'] == g].cT.tolist()[0]"
   ]
  },
  {
   "cell_type": "code",
   "execution_count": 54,
   "metadata": {},
   "outputs": [],
   "source": [
    "#Чистим текст от шлака\n",
    "def preText(s):\n",
    "    return s.lower().replace('.',' ').replace(',',' ').replace(':',' ').replace('?',' ')\\\n",
    "           .replace('!', ' ').replace('\"',' ').replace('-',' ').replace(';', ' ').replace('  ',' ').strip()"
   ]
  },
  {
   "cell_type": "code",
   "execution_count": 61,
   "metadata": {},
   "outputs": [
    {
     "name": "stdout",
     "output_type": "stream",
     "text": [
      "Аллах акбар\n"
     ]
    }
   ],
   "source": [
    "#вводим текст\n",
    "s = str(input())"
   ]
  },
  {
   "cell_type": "code",
   "execution_count": 62,
   "metadata": {},
   "outputs": [],
   "source": [
    "text = preText(s)"
   ]
  },
  {
   "cell_type": "code",
   "execution_count": 63,
   "metadata": {
    "collapsed": true
   },
   "outputs": [],
   "source": [
    "#Преобразовываем текст в части речи\n",
    "def magic(text, m):\n",
    "    res = []\n",
    "    for word in text.split(' '):\n",
    "        res.append(morph.parse(word)[0].tag.POS)\n",
    "        \n",
    "    def match(x):\n",
    "        return m[x]\n",
    "    \n",
    "    R = list(map(match, res))\n",
    "    return R"
   ]
  },
  {
   "cell_type": "code",
   "execution_count": 64,
   "metadata": {},
   "outputs": [],
   "source": [
    "text_m = magic(text, m)"
   ]
  },
  {
   "cell_type": "code",
   "execution_count": 65,
   "metadata": {
    "collapsed": true
   },
   "outputs": [],
   "source": [
    "#Считаем количество частей речи\n",
    "def counter(text_m):\n",
    "    res = {}\n",
    "    for gr in set(text_m):\n",
    "        res[gr] = text_m.count(gr)\n",
    "    return res"
   ]
  },
  {
   "cell_type": "code",
   "execution_count": 66,
   "metadata": {},
   "outputs": [],
   "source": [
    "stat = counter(text_m)"
   ]
  },
  {
   "cell_type": "code",
   "execution_count": 67,
   "metadata": {},
   "outputs": [
    {
     "name": "stdout",
     "output_type": "stream",
     "text": [
      "Имя существительное: 2\n",
      "Кол-во слов в тексте: 2\n"
     ]
    }
   ],
   "source": [
    "for row in stat:\n",
    "    print(row.capitalize()+':',stat[row])\n",
    "    \n",
    "print('Кол-во слов в тексте:', len(text.split(' ')))"
   ]
  },
  {
   "cell_type": "code",
   "execution_count": null,
   "metadata": {
    "collapsed": true
   },
   "outputs": [],
   "source": []
  }
 ],
 "metadata": {
  "kernelspec": {
   "display_name": "Python 3",
   "language": "python",
   "name": "python3"
  },
  "language_info": {
   "codemirror_mode": {
    "name": "ipython",
    "version": 3
   },
   "file_extension": ".py",
   "mimetype": "text/x-python",
   "name": "python",
   "nbconvert_exporter": "python",
   "pygments_lexer": "ipython3",
   "version": "3.5.2"
  }
 },
 "nbformat": 4,
 "nbformat_minor": 2
}
